{
 "cells": [
  {
   "cell_type": "markdown",
   "metadata": {},
   "source": [
    "# Klasy"
   ]
  },
  {
   "cell_type": "markdown",
   "metadata": {},
   "source": [
    "No jakby tu dzisiaj bez klas nie? Klasa to nic innego jak opis jakiegoś nowego typu danych. W pythonie klasy mogą być niezwykle proste, ale również mają ogromne możliwości. Nie chcę wchodzić w zbyd dużo szczegółów tutaj bo szkoda dnia, ale pamiętajcie, że z klasą można zrobić prawie wszystko ;)\n",
    "\n",
    "Jest natomiast duża różnica w rozumieniu funkcji klasy. Klasy kojarzą się z programowaniem obiektowym. Python jest językiem obiektowym, ale jest też językiem funkcyjnym i ... czmykolwiek sobie chcesz. Generalnie pythonowcy mają to w dupie. \n",
    "W Pythonie nie zobaczycz interfejsów, klas abstrakcyjnych (można, ale o tym kiedy indziej) czy przeciążania metod. Zbędny kod, na który nikt nie ma czasu ;). No dobra to co jest?! Jest dziedziczenie (a nawet wielo dziedziczenie), nadpisywanie, a przede wszystkim ... [duck typing](https://pl.wikipedia.org/wiki/Duck_typing)!\n",
    "\n",
    "Użyjmy starego jak świat przykładu:"
   ]
  },
  {
   "cell_type": "code",
   "execution_count": 15,
   "metadata": {},
   "outputs": [],
   "source": [
    "class Pojazd:\n",
    "    \n",
    "    def zasięg(self):\n",
    "        return self.zapas_paliwa / self.zużycie_paliwa"
   ]
  },
  {
   "cell_type": "code",
   "execution_count": 16,
   "metadata": {},
   "outputs": [],
   "source": [
    "class Samochód(Pojazd):\n",
    "    def __init__(self, kolor, zużycie=7):\n",
    "        self.kolor = kolor\n",
    "        self.zużycie_paliwa = zużycie\n",
    "        self.zapas_paliwa = 0\n",
    "        \n",
    "    def tankuj(self, objętość):\n",
    "        self.zapas_paliwa += objętość"
   ]
  },
  {
   "cell_type": "code",
   "execution_count": 17,
   "metadata": {},
   "outputs": [],
   "source": [
    "maluch = Samochód('Bahama Yellow', zużycie=12)"
   ]
  },
  {
   "cell_type": "code",
   "execution_count": 18,
   "metadata": {},
   "outputs": [],
   "source": [
    "maluch.tankuj(30)"
   ]
  },
  {
   "cell_type": "code",
   "execution_count": 19,
   "metadata": {},
   "outputs": [
    {
     "data": {
      "text/plain": [
       "2.5"
      ]
     },
     "execution_count": 19,
     "metadata": {},
     "output_type": "execute_result"
    }
   ],
   "source": [
    "maluch.zasięg()"
   ]
  },
  {
   "cell_type": "markdown",
   "metadata": {},
   "source": [
    "Ciekawostką jest tutaj to, że pierwszym argumentem jest zawsze `self`. Można by oczywiście nazwać tą zmienną inaczej, ale wartością zawsze będzie ten obiekt czyli odpowiednik `this` w innych językach. \n",
    "\n",
    "Jest to śmieszne uproszczenie bo w zasadzie klasa to jest niewiele więcej niż `dict` i kilka funkcji wspartych odrobiną składni ;)"
   ]
  },
  {
   "cell_type": "code",
   "execution_count": 20,
   "metadata": {},
   "outputs": [
    {
     "data": {
      "text/plain": [
       "{'kolor': 'Bahama Yellow', 'zapas_paliwa': 30, 'zużycie_paliwa': 12}"
      ]
     },
     "execution_count": 20,
     "metadata": {},
     "output_type": "execute_result"
    }
   ],
   "source": [
    "maluch.__dict__"
   ]
  },
  {
   "cell_type": "markdown",
   "metadata": {},
   "source": [
    "W Pythonie nie ma do końca czegoś takiego jak metody prywatne, chronione itp. Zawsze jest do nich jakiś dosęp. Jest natomiast przyjęta nomenklatura, że rzeczy, które chcielibyśmy by nie były używane nazwamy z przedrostkiem `_`, natomiast rzeczy które faktyczne chcemy ukryć, z przedrostkiem `__`."
   ]
  },
  {
   "cell_type": "code",
   "execution_count": 21,
   "metadata": {},
   "outputs": [],
   "source": [
    "class Warszawiak:\n",
    "    \n",
    "    def _zakopane(self):\n",
    "        return 'Zakopane'\n",
    "        \n",
    "    def __radom(self):\n",
    "        return 'Radom'\n",
    "        \n",
    "    def gdzie_spędzam_sylwestra(self):\n",
    "        return self._zakopane()\n",
    "    \n",
    "    def skąd_jestem(self):\n",
    "        return self.__radom()\n",
    "\n",
    "brajan = Warszawiak()"
   ]
  },
  {
   "cell_type": "code",
   "execution_count": 22,
   "metadata": {},
   "outputs": [
    {
     "data": {
      "text/plain": [
       "'Zakopane'"
      ]
     },
     "execution_count": 22,
     "metadata": {},
     "output_type": "execute_result"
    }
   ],
   "source": [
    "brajan.gdzie_spędzam_sylwestra()"
   ]
  },
  {
   "cell_type": "code",
   "execution_count": 23,
   "metadata": {},
   "outputs": [
    {
     "data": {
      "text/plain": [
       "'Radom'"
      ]
     },
     "execution_count": 23,
     "metadata": {},
     "output_type": "execute_result"
    }
   ],
   "source": [
    "brajan.skąd_jestem()"
   ]
  },
  {
   "cell_type": "code",
   "execution_count": 24,
   "metadata": {},
   "outputs": [
    {
     "data": {
      "text/plain": [
       "'Zakopane'"
      ]
     },
     "execution_count": 24,
     "metadata": {},
     "output_type": "execute_result"
    }
   ],
   "source": [
    "brajan._zakopane()"
   ]
  },
  {
   "cell_type": "code",
   "execution_count": 25,
   "metadata": {},
   "outputs": [
    {
     "ename": "AttributeError",
     "evalue": "'Warszawiak' object has no attribute '__radom'",
     "output_type": "error",
     "traceback": [
      "\u001b[1;31m---------------------------------------------------------------------------\u001b[0m",
      "\u001b[1;31mAttributeError\u001b[0m                            Traceback (most recent call last)",
      "\u001b[1;32m<ipython-input-25-edce110da08f>\u001b[0m in \u001b[0;36m<module>\u001b[1;34m()\u001b[0m\n\u001b[1;32m----> 1\u001b[1;33m \u001b[0mbrajan\u001b[0m\u001b[1;33m.\u001b[0m\u001b[0m__radom\u001b[0m\u001b[1;33m(\u001b[0m\u001b[1;33m)\u001b[0m\u001b[1;33m\u001b[0m\u001b[0m\n\u001b[0m",
      "\u001b[1;31mAttributeError\u001b[0m: 'Warszawiak' object has no attribute '__radom'"
     ]
    }
   ],
   "source": [
    "brajan.__radom()"
   ]
  },
  {
   "cell_type": "markdown",
   "metadata": {},
   "source": [
    "ciąg dalszy "
   ]
  }
 ],
 "metadata": {
  "kernelspec": {
   "display_name": "Python 3",
   "language": "python",
   "name": "python3"
  },
  "language_info": {
   "codemirror_mode": {
    "name": "ipython",
    "version": 3
   },
   "file_extension": ".py",
   "mimetype": "text/x-python",
   "name": "python",
   "nbconvert_exporter": "python",
   "pygments_lexer": "ipython3",
   "version": "3.6.1"
  }
 },
 "nbformat": 4,
 "nbformat_minor": 2
}
