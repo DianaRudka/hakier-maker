{
 "cells": [
  {
   "cell_type": "markdown",
   "metadata": {},
   "source": [
    "# Funkcje"
   ]
  },
  {
   "cell_type": "markdown",
   "metadata": {},
   "source": [
    "Co to za programowanie jeśli nie wie się jak organizować kod w logiczne bloki, które potem można użyć ponownie? Srakie! O takie!\n",
    "\n",
    "Co trzeba wiedzieć o funkcjach w Pythonie? W sumie wszystko można na nich zrobić. Są bardzo użytecznym narzędziem i zgodnie z zasadą \"Simple is better than complex\" z The Zen of Python za każdym razem jak użyjesz funkcji tam gdzie miała być klasa aniołek w niebie dostaje skrzydełka. "
   ]
  },
  {
   "cell_type": "code",
   "execution_count": 3,
   "metadata": {},
   "outputs": [],
   "source": [
    "def witaj(imię):\n",
    "    return f'Jak się masz {imię}?'"
   ]
  },
  {
   "cell_type": "code",
   "execution_count": 4,
   "metadata": {},
   "outputs": [
    {
     "name": "stdout",
     "output_type": "stream",
     "text": [
      "Jak się masz Rysiu?\n"
     ]
    }
   ],
   "source": [
    "print(witaj('Rysiu'))"
   ]
  },
  {
   "cell_type": "markdown",
   "metadata": {},
   "source": [
    "Ważną cechą funkcji jest to, że mogą być przypisane do zmiennych"
   ]
  },
  {
   "cell_type": "code",
   "execution_count": 5,
   "metadata": {},
   "outputs": [],
   "source": [
    "siema = witaj"
   ]
  },
  {
   "cell_type": "code",
   "execution_count": 9,
   "metadata": {},
   "outputs": [
    {
     "name": "stdout",
     "output_type": "stream",
     "text": [
      "Jak się masz Rysiu?\n"
     ]
    }
   ],
   "source": [
    "print(siema('Rysiu'))"
   ]
  },
  {
   "cell_type": "code",
   "execution_count": 10,
   "metadata": {},
   "outputs": [],
   "source": [
    "def cześć(imię):\n",
    "    return f'Czołem {imię}!'"
   ]
  },
  {
   "cell_type": "code",
   "execution_count": 11,
   "metadata": {},
   "outputs": [
    {
     "name": "stdout",
     "output_type": "stream",
     "text": [
      "Jak się masz Rysiu?\n",
      "Jak się masz Rysiu?\n",
      "Czołem Rysiu!\n"
     ]
    }
   ],
   "source": [
    "for f in [witaj, siema, cześć]:\n",
    "    print(f('Rysiu'))"
   ]
  },
  {
   "cell_type": "markdown",
   "metadata": {},
   "source": [
    "funkcje przyjmują dwa rodzaje parametrów (użyję angielskiej nomenklatury): positional arguments i keyword arguments. Te pierwsze są wymagane, podczas gdy dla drugich podajemy domyślną wartość"
   ]
  },
  {
   "cell_type": "code",
   "execution_count": 12,
   "metadata": {},
   "outputs": [],
   "source": [
    "def oceń(osoby, ocena='porządne chłopy'):\n",
    "    return f'Wszystkie {osoby} to {ocena}'"
   ]
  },
  {
   "cell_type": "code",
   "execution_count": 13,
   "metadata": {},
   "outputs": [
    {
     "name": "stdout",
     "output_type": "stream",
     "text": [
      "Wszystkie Ryśki to porządne chłopy\n"
     ]
    }
   ],
   "source": [
    "print(oceń('Ryśki'))"
   ]
  },
  {
   "cell_type": "code",
   "execution_count": 14,
   "metadata": {},
   "outputs": [
    {
     "name": "stdout",
     "output_type": "stream",
     "text": [
      "Wszystkie pijaki to złodzieje\n"
     ]
    }
   ],
   "source": [
    "print(oceń('pijaki', ocena='złodzieje'))"
   ]
  },
  {
   "cell_type": "markdown",
   "metadata": {},
   "source": [
    "Kolejny przydatny \"ficzer\" to to, że w zasadzie to nie musimy od razu wiedzieć jakie chcemy argumenty. Możemy akceptować wszystko jak leci"
   ]
  },
  {
   "cell_type": "code",
   "execution_count": 17,
   "metadata": {},
   "outputs": [],
   "source": [
    "def funkcja(*args, **kwargs):\n",
    "    print(args)\n",
    "    print(kwargs)"
   ]
  },
  {
   "cell_type": "code",
   "execution_count": 18,
   "metadata": {},
   "outputs": [
    {
     "name": "stdout",
     "output_type": "stream",
     "text": [
      "()\n",
      "{}\n"
     ]
    }
   ],
   "source": [
    "funkcja()"
   ]
  },
  {
   "cell_type": "code",
   "execution_count": 19,
   "metadata": {},
   "outputs": [
    {
     "name": "stdout",
     "output_type": "stream",
     "text": [
      "('ala',)\n",
      "{'ma': 'kota'}\n"
     ]
    }
   ],
   "source": [
    "funkcja('ala', ma='kota')"
   ]
  },
  {
   "cell_type": "markdown",
   "metadata": {},
   "source": [
    "[Powrót](./Intro.ipynb)"
   ]
  },
  {
   "cell_type": "code",
   "execution_count": null,
   "metadata": {},
   "outputs": [],
   "source": []
  }
 ],
 "metadata": {
  "kernelspec": {
   "display_name": "Python 3",
   "language": "python",
   "name": "python3"
  },
  "language_info": {
   "codemirror_mode": {
    "name": "ipython",
    "version": 3
   },
   "file_extension": ".py",
   "mimetype": "text/x-python",
   "name": "python",
   "nbconvert_exporter": "python",
   "pygments_lexer": "ipython3",
   "version": "3.6.1"
  }
 },
 "nbformat": 4,
 "nbformat_minor": 2
}
